{
 "cells": [
  {
   "attachments": {},
   "cell_type": "markdown",
   "metadata": {},
   "source": [
    "# ASSIGNMENT LOOPS\n"
   ]
  },
  {
   "attachments": {},
   "cell_type": "markdown",
   "metadata": {},
   "source": [
    "### Q1. Explain with an example each when to use a for loop and a while loop.\n",
    "Ans. A for loop and a while loop are two types of loops in programming that are used to execute a block of code repeatedly. The choice of using a for loop or a while loop depends on the specific situation and the requirements of the code.\n",
    "\n",
    "Here are examples of when to use a for loop and a while loop:\n",
    "\n",
    "In Python, for and while loops are used to execute a block of code repeatedly. The main difference between these loops is the way they are structured and when they are used.\n",
    "\n",
    "A for loop is used when you know the number of times you want to execute the loop beforehand. The loop iterates over a sequence of values such as a list, tuple, string, or range object. Here's an example:\n",
    "\n"
   ]
  },
  {
   "cell_type": "code",
   "execution_count": 1,
   "metadata": {},
   "outputs": [
    {
     "name": "stdout",
     "output_type": "stream",
     "text": [
      "1\n",
      "2\n",
      "3\n",
      "4\n",
      "5\n"
     ]
    }
   ],
   "source": [
    "# example of for loop\n",
    "for i in range(1,6):\n",
    "    print(i)\n",
    "\n",
    "# in this example, the for loop iterates over a sequence of values from 1 to 5. The loop body prints each value on a new line. This loop is useful when you know that you want to execute a block of code a fixed number of times."
   ]
  },
  {
   "cell_type": "code",
   "execution_count": null,
   "metadata": {},
   "outputs": [],
   "source": [
    "On the other hand, a while loop is used when you don't know how many times you want to execute the loop beforehand. The loop continues to execute until a condition is met. Here's an example:"
   ]
  },
  {
   "cell_type": "code",
   "execution_count": 2,
   "metadata": {},
   "outputs": [
    {
     "name": "stdout",
     "output_type": "stream",
     "text": [
      "1\n",
      "2\n",
      "3\n",
      "4\n",
      "5\n"
     ]
    }
   ],
   "source": [
    "# example:\n",
    "i = 1\n",
    "while i<=5:\n",
    "    print(i)\n",
    "    i = i +1\n",
    "\n",
    "# in this example, the while loop continues to execute until the value of i becomes greater than 5. The loop body prints the value of i on a new line and then increments i by 1. This loop is useful when you want to execute a block of code until a specific condition is met.\n",
    "\n",
    "# In summary, use a for loop when you know the number of times you want to execute the loop, and use a while loop when you don't know how many times you want to execute the loop beforehand."
   ]
  },
  {
   "attachments": {},
   "cell_type": "markdown",
   "metadata": {},
   "source": [
    "### Q2. Write a python program to print the sum and product of the first 10 natural numbers using for and while loop.\n",
    "Ans. "
   ]
  },
  {
   "cell_type": "code",
   "execution_count": 4,
   "metadata": {},
   "outputs": [
    {
     "name": "stdout",
     "output_type": "stream",
     "text": [
      "summ of first Ten Natural Numbers:  55\n",
      "Product of First Tens Natural numbers:  3628800\n"
     ]
    }
   ],
   "source": [
    "#### 1.Using a for loop\n",
    "sum = 0\n",
    "for i in range(1,11):\n",
    "    sum = sum+i\n",
    "\n",
    "product = 1\n",
    "for i in range(1,11):\n",
    "    product = product*i\n",
    "\n",
    "print(\"summ of first Ten Natural Numbers: \", sum)\n",
    "print(\"Product of First Tens Natural numbers: \",product)"
   ]
  },
  {
   "cell_type": "code",
   "execution_count": 5,
   "metadata": {},
   "outputs": [
    {
     "name": "stdout",
     "output_type": "stream",
     "text": [
      "Sum of first 10 natural numbers: 45\n",
      "Product of first 10 natural numbers: 3628800\n"
     ]
    }
   ],
   "source": [
    "#### 2. using while loop\n",
    "sum = 0\n",
    "i = 1\n",
    "while i<10:\n",
    "    sum +=i\n",
    "    i +=1\n",
    "\n",
    "product = 1\n",
    "i = 1\n",
    "while i <=10:\n",
    "    product *= i\n",
    "    i +=1\n",
    "\n",
    "print(\"Sum of first 10 natural numbers:\", sum)\n",
    "print(\"Product of first 10 natural numbers:\", product)\n",
    "\n",
    "# Both programs produce the same output, which is the sum and product of the first 10 natural numbers. The first program uses a for loop, while the second program uses a while loop."
   ]
  },
  {
   "attachments": {},
   "cell_type": "markdown",
   "metadata": {},
   "source": [
    "##### Q3. Create a python program to compute the electricity bill for a household.The per-unit charges in rupees are as follows: For the first 100 units, the user will be charged Rs. 4.5 per unit, for the next 100 units, the user will be charged Rs. 6 per unit, and for the next 100 units, the user will be charged Rs. 10 per unit, After 300 units and above the user will be charged Rs. 20 per unit."
   ]
  },
  {
   "cell_type": "code",
   "execution_count": 1,
   "metadata": {},
   "outputs": [
    {
     "name": "stdout",
     "output_type": "stream",
     "text": [
      "Total electricity bill: 1996030.0\n"
     ]
    }
   ],
   "source": [
    "while True:\n",
    "    units_input = input(\"Enter the units of electricity consumed: \")\n",
    "    if units_input.isdigit():\n",
    "        units = int(units_input)\n",
    "        break\n",
    "    else:\n",
    "        print(\"Invalid input. Please enter a positive integer value.\")\n",
    "\n",
    "# Initializing variables to hold the total bill and the units to be charged at each rate\n",
    "total_bill = 0\n",
    "units_1 = 0   # units charged at Rs. 4.5 per unit\n",
    "units_2 = 0   # units charged at Rs. 6 per unit\n",
    "units_3 = 0   # units charged at Rs. 10 per unit\n",
    "units_4 = 0   # units charged at Rs. 20 per unit\n",
    "\n",
    "# Calculating the bill based on the per-unit charges\n",
    "if units <= 100:\n",
    "    total_bill = units * 4.5\n",
    "    units_1 = units\n",
    "elif units <= 200:\n",
    "    units_1 = 100\n",
    "    units_2 = units - 100\n",
    "    total_bill = units_1 * 4.5 + units_2 * 6\n",
    "elif units <= 300:\n",
    "    units_1 = 100\n",
    "    units_2 = 100\n",
    "    units_3 = units - 200\n",
    "    total_bill = units_1 * 4.5 + units_2 * 6 + units_3 * 10\n",
    "else:\n",
    "    units_1 = 100\n",
    "    units_2 = 100\n",
    "    units_3 = 100\n",
    "    units_4 = units - 300\n",
    "    total_bill = units_1 * 4.5 + units_2 * 6 + units_3 * 10 + units_4 * 20\n",
    "\n",
    "# Printing the total bill\n",
    "print(\"Total electricity bill:\", total_bill)\n",
    "\n"
   ]
  },
  {
   "attachments": {},
   "cell_type": "markdown",
   "metadata": {},
   "source": [
    "#### Q4. Create a list of numbers from 1 to 100. Use for loop and while loop to calculate the cube of each number and if the cube of that number is divisible by 4 or 5 then append that number in a list and print that list."
   ]
  },
  {
   "cell_type": "code",
   "execution_count": 1,
   "metadata": {},
   "outputs": [
    {
     "name": "stdout",
     "output_type": "stream",
     "text": [
      "Cubes divisible by 4 or 5 (using for loop): [8, 64, 125, 216, 512, 1000, 1728, 2744, 3375, 4096, 5832, 8000, 10648, 13824, 15625, 17576, 21952, 27000, 32768, 39304, 42875, 46656, 54872, 64000, 74088, 85184, 91125, 97336, 110592, 125000, 140608, 157464, 166375, 175616, 195112, 216000, 238328, 262144, 274625, 287496, 314432, 343000, 373248, 405224, 421875, 438976, 474552, 512000, 551368, 592704, 614125, 636056, 681472, 729000, 778688, 830584, 857375, 884736, 941192, 1000000]\n",
      "Cubes divisible by 4 or 5 (using while loop): [8, 64, 125, 216, 512, 1000, 1728, 2744, 3375, 4096, 5832, 8000, 10648, 13824, 15625, 17576, 21952, 27000, 32768, 39304, 42875, 46656, 54872, 64000, 74088, 85184, 91125, 97336, 110592, 125000, 140608, 157464, 166375, 175616, 195112, 216000, 238328, 262144, 274625, 287496, 314432, 343000, 373248, 405224, 421875, 438976, 474552, 512000, 551368, 592704, 614125, 636056, 681472, 729000, 778688, 830584, 857375, 884736, 941192, 1000000]\n"
     ]
    }
   ],
   "source": [
    "# Program to create a list of cubes of numbers from 1 to 100\n",
    "\n",
    "# Using a for loop\n",
    "cubes = []\n",
    "for i in range(1, 101):\n",
    "    cube = i**3\n",
    "    if cube % 4 == 0 or cube % 5 == 0:\n",
    "        cubes.append(cube)\n",
    "print(\"Cubes divisible by 4 or 5 (using for loop):\", cubes)\n",
    "\n",
    "# Using a while loop\n",
    "cubes = []\n",
    "i = 1\n",
    "while i <= 100:\n",
    "    cube = i**3\n",
    "    if cube % 4 == 0 or cube % 5 == 0:\n",
    "        cubes.append(cube)\n",
    "    i += 1\n",
    "print(\"Cubes divisible by 4 or 5 (using while loop):\", cubes)\n"
   ]
  },
  {
   "attachments": {},
   "cell_type": "markdown",
   "metadata": {},
   "source": [
    "#### Q5. Write a program to filter count vowels in the below-given string. string = \"I want to become a data scientist\""
   ]
  },
  {
   "cell_type": "code",
   "execution_count": 2,
   "metadata": {},
   "outputs": [
    {
     "name": "stdout",
     "output_type": "stream",
     "text": [
      "The number of vowels in the string is: 12\n"
     ]
    }
   ],
   "source": [
    "string = \"I want to become a data scientist\"\n",
    "\n",
    "# List of vowels\n",
    "vowels = ['a', 'e', 'i', 'o', 'u']\n",
    "\n",
    "# Count variable\n",
    "count = 0\n",
    "\n",
    "# Iterate over each character in the string\n",
    "for char in string:\n",
    "    # Check if the character is a vowel\n",
    "    if char.lower() in vowels:\n",
    "        # Increment the count variable if the character is a vowel\n",
    "        count += 1\n",
    "\n",
    "# Print the number of vowels in the string\n",
    "print(\"The number of vowels in the string is:\", count)\n"
   ]
  },
  {
   "cell_type": "markdown",
   "metadata": {},
   "source": []
  },
  {
   "cell_type": "markdown",
   "metadata": {},
   "source": []
  },
  {
   "cell_type": "markdown",
   "metadata": {},
   "source": []
  },
  {
   "cell_type": "markdown",
   "metadata": {},
   "source": []
  }
 ],
 "metadata": {
  "kernelspec": {
   "display_name": "gpu4",
   "language": "python",
   "name": "gpu4"
  },
  "language_info": {
   "codemirror_mode": {
    "name": "ipython",
    "version": 3
   },
   "file_extension": ".py",
   "mimetype": "text/x-python",
   "name": "python",
   "nbconvert_exporter": "python",
   "pygments_lexer": "ipython3",
   "version": "3.6.13"
  },
  "orig_nbformat": 4
 },
 "nbformat": 4,
 "nbformat_minor": 2
}
